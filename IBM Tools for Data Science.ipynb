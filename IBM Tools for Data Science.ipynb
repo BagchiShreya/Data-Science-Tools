{
 "cells": [
  {
   "cell_type": "markdown",
   "id": "c40d86ed-1759-4fd1-82be-4fb8e6851072",
   "metadata": {},
   "source": [
    "DATA SCIENCE TOOLS\n"
   ]
  },
  {
   "cell_type": "markdown",
   "id": "463b47de-ab63-4fcf-95a3-269c61f23ae7",
   "metadata": {},
   "source": [
    "In this notebook, Data Science Tools are summarized.\n",
    "\r\n",
    "Objective:\r\n",
    "\r\n",
    "List popular languages that Data Scientists use.\r\n",
    "List commonly used libraries used by Data Scientists.\r\n",
    "Comment on Data Science tools."
   ]
  },
  {
   "cell_type": "markdown",
   "id": "3ac5f95f-862b-415f-b6c4-84f5faa5dd22",
   "metadata": {},
   "source": [
    "Some of the popular languages that Data Scientists use are:\n",
    "\r\n",
    "Python.\r\n",
    "R.\r\n",
    "SQL.\r\n",
    "Java.\r\n",
    "Julia.\r\n",
    "Scala.\r\n",
    "C/C++.\r\n",
    "JavaScript."
   ]
  },
  {
   "cell_type": "markdown",
   "id": "7d840b99-26b7-4c89-b3ba-dacd02cd1646",
   "metadata": {},
   "source": [
    "Some of the commonly used libraries used by Data Scientists include:\n",
    "\r\n",
    "TensorFlow.\r\n",
    "NumPy.\r\n",
    "SciPy.\r\n",
    "Pandas.\r\n",
    "Matplotlib.\r\n",
    "Keras.\r\n",
    "SciKit-Learn.\r\n",
    "PyTorch.\r\n",
    "Scrapy.\r\n",
    "BeautifulSoup.\r\n",
    "LightGBM.\r\n",
    "ELI5.\r\n",
    "Theano.\r\n",
    "NuPIC.\r\n",
    "Ramp.\r\n",
    "Pipenv.\r\n",
    "Bob.\r\n",
    "PyBrain.\r\n",
    "Caffe2.\r\n",
    "Chainer."
   ]
  },
  {
   "cell_type": "markdown",
   "id": "5be936a5-064f-472d-8c51-f5d8f034d66c",
   "metadata": {},
   "source": [
    "Data Science Tools table\n",
    "| Data Science Tools |\n",
    "|--------------------|\n",
    "|       SAS.         |\n",
    "|    Apache Spark    |\n",
    "|      BigML         |\n"
   ]
  },
  {
   "cell_type": "markdown",
   "id": "60f13f61-cdae-46ef-97b7-61348d5ad40e",
   "metadata": {},
   "source": [
    "$$\\int_0^\\infty \\frac{x^3}{e^x-1}\\,dx = \\frac{\\pi^4}{15}$$\n",
    "$"
   ]
  },
  {
   "cell_type": "code",
   "execution_count": 1,
   "id": "9a5d1fbb-96ea-444d-91da-145b04048272",
   "metadata": {},
   "outputs": [
    {
     "data": {
      "text/plain": [
       "17"
      ]
     },
     "execution_count": 1,
     "metadata": {},
     "output_type": "execute_result"
    }
   ],
   "source": [
    "(3*4)+5\n"
   ]
  },
  {
   "cell_type": "code",
   "execution_count": 2,
   "id": "b9f5e277-2fdf-4674-b530-5bfe6284fd6f",
   "metadata": {},
   "outputs": [
    {
     "name": "stdout",
     "output_type": "stream",
     "text": [
      "0 days, 3.3333333333333335 hours, 0 mins. \n"
     ]
    }
   ],
   "source": [
    "days = 0\n",
    "hours = 0\n",
    "mins = 0\n",
    "time = 200\n",
    "#days = time / 1440\n",
    "leftover_minutes = time % 1440\n",
    "hours = leftover_minutes / 60\n",
    "#mins = time - (days*1440) - (hours*60)\n",
    "print(str(days) + \" days, \" + str(hours) + \" hours, \" + str(mins) +  \" mins. \")"
   ]
  },
  {
   "cell_type": "markdown",
   "id": "77cf020a-21e4-4a83-9f06-855a2deff503",
   "metadata": {},
   "source": [
    "Objectives\n",
    "1. List popular languages that Data Scientists use.\n",
    "2. List commonly used libraries used by Data Scientists.\n",
    "3. Comment on Data Science tools."
   ]
  },
  {
   "cell_type": "markdown",
   "id": "a1b000e6-704b-4cd6-9737-31b3442f19b1",
   "metadata": {},
   "source": [
    "Author's Name - Shreya Bagchi"
   ]
  },
  {
   "cell_type": "code",
   "execution_count": null,
   "id": "7729f649-1510-41df-8edf-bcfd205fd014",
   "metadata": {},
   "outputs": [],
   "source": []
  }
 ],
 "metadata": {
  "kernelspec": {
   "display_name": "Python 3 (ipykernel)",
   "language": "python",
   "name": "python3"
  },
  "language_info": {
   "codemirror_mode": {
    "name": "ipython",
    "version": 3
   },
   "file_extension": ".py",
   "mimetype": "text/x-python",
   "name": "python",
   "nbconvert_exporter": "python",
   "pygments_lexer": "ipython3",
   "version": "3.11.7"
  }
 },
 "nbformat": 4,
 "nbformat_minor": 5
}
